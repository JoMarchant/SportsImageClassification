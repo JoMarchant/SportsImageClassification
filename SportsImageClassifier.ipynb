{
 "cells": [
  {
   "attachments": {},
   "cell_type": "markdown",
   "metadata": {},
   "source": [
    "# Clasificador de imágenes de deportes"
   ]
  },
  {
   "attachments": {},
   "cell_type": "markdown",
   "metadata": {},
   "source": [
    "## Librerías necesarias"
   ]
  },
  {
   "cell_type": "code",
   "execution_count": 37,
   "metadata": {},
   "outputs": [],
   "source": [
    "# import system libs\n",
    "import os\n",
    "import time\n",
    "import shutil\n",
    "import pathlib\n",
    "import itertools\n",
    "\n",
    "# import data handling tools\n",
    "import cv2\n",
    "import numpy as np\n",
    "import pandas as pd\n",
    "import matplotlib.pyplot as plt\n",
    "from sklearn.model_selection import train_test_split\n",
    "from sklearn.metrics import confusion_matrix, classification_report\n",
    "\n",
    "# import Deep learning Libraries\n",
    "import tensorflow as tf\n",
    "from tensorflow import keras\n",
    "from tensorflow.keras.models import Sequential\n",
    "from tensorflow.keras.optimizers import Adam, Adamax\n",
    "from tensorflow.keras.metrics import categorical_crossentropy\n",
    "from tensorflow.keras.preprocessing.image import ImageDataGenerator\n",
    "from tensorflow.keras.layers import Conv2D, MaxPooling2D, Flatten, Dense, DepthwiseConv2D, Dropout, BatchNormalization, Rescaling\n",
    "from tensorflow.keras import regularizers\n",
    "from tensorflow.keras.utils import image_dataset_from_directory"
   ]
  },
  {
   "attachments": {},
   "cell_type": "markdown",
   "metadata": {},
   "source": [
    "## Formación de datos con labels"
   ]
  },
  {
   "cell_type": "code",
   "execution_count": 36,
   "metadata": {},
   "outputs": [
    {
     "name": "stdout",
     "output_type": "stream",
     "text": [
      "                     filepath  class_id\n",
      "13992  valid/air hockey/1.jpg         0\n",
      "13993  valid/air hockey/2.jpg         0\n",
      "13994  valid/air hockey/3.jpg         0\n",
      "13995  valid/air hockey/4.jpg         0\n",
      "13996  valid/air hockey/5.jpg         0\n"
     ]
    }
   ],
   "source": [
    "csv_data = pd.read_csv('sports.csv')\n",
    "\n",
    "train = csv_data[csv_data['data set'] == 'train']\n",
    "test = csv_data[csv_data['data set'] == 'test']\n",
    "valid = csv_data[csv_data['data set'] == 'valid']\n",
    "\n",
    "train = pd.concat((train['filepaths'], train['class id']), axis=1)\n",
    "test = pd.concat((test['filepaths'], test['class id']), axis=1)\n",
    "valid = pd.concat((valid['filepaths'], valid['class id']), axis=1)\n",
    "\n",
    "train.rename(columns={'filepaths': 'filepath', 'class id': 'class_id'}, inplace=True)\n",
    "test.rename(columns={'filepaths': 'filepath', 'class id': 'class_id'}, inplace=True)\n",
    "valid.rename(columns={'filepaths': 'filepath', 'class id': 'class_id'}, inplace=True)\n",
    "\n",
    "print(valid.head())\n"
   ]
  },
  {
   "attachments": {},
   "cell_type": "markdown",
   "metadata": {},
   "source": [
    "## Preparación de datos"
   ]
  },
  {
   "attachments": {},
   "cell_type": "markdown",
   "metadata": {},
   "source": [
    "### Aumento de datos"
   ]
  },
  {
   "cell_type": "code",
   "execution_count": 38,
   "metadata": {},
   "outputs": [
    {
     "name": "stdout",
     "output_type": "stream",
     "text": [
      "Found 13492 files belonging to 100 classes.\n",
      "Found 500 files belonging to 100 classes.\n",
      "Found 500 files belonging to 100 classes.\n"
     ]
    }
   ],
   "source": [
    "\n",
    "# Create the images and labels arrays\n",
    "# Xtrain = np.array([get_image(filepath) for filepath in train['filepath']])\n",
    "ytrain = np.array(train['class_id'].astype(int))\n",
    "\n",
    "# Xtest = np.array([get_image(filepath) for filepath in test['filepath']])\n",
    "ytest = np.array(test['class_id'].astype(int))\n",
    "\n",
    "# Xvalid = np.array([get_image(filepath) for filepath in valid['filepath']])\n",
    "yvalid = np.array(valid['class_id'].astype(int))\n",
    "\n",
    "data_augmentation = keras.Sequential([\n",
    "    tf.keras.layers.experimental.preprocessing.RandomFlip(\"horizontal\"),\n",
    "    tf.keras.layers.experimental.preprocessing.RandomZoom(0.2),\n",
    "    tf.keras.layers.experimental.preprocessing.RandomRotation(0.3),\n",
    "    tf.keras.layers.experimental.preprocessing.RandomContrast(0.2),\n",
    "])\n",
    "\n",
    "\n",
    "Xtrain = image_dataset_from_directory('train', labels=list(ytrain), label_mode='int', image_size=(224, 224), batch_size=40, shuffle=True)\n",
    "Xtest = image_dataset_from_directory('test', labels=list(ytest), label_mode='int', image_size=(224, 224), batch_size=40)\n",
    "Xvalid = image_dataset_from_directory('valid', labels=list(yvalid), label_mode='int', image_size=(224, 224), batch_size=40)\n"
   ]
  },
  {
   "attachments": {},
   "cell_type": "markdown",
   "metadata": {},
   "source": [
    "## Creación del modelo"
   ]
  },
  {
   "attachments": {},
   "cell_type": "markdown",
   "metadata": {},
   "source": [
    "### Parámetros"
   ]
  },
  {
   "cell_type": "code",
   "execution_count": 5,
   "metadata": {},
   "outputs": [],
   "source": [
    "IMG_SIZE = (224, 224, 3)\n"
   ]
  },
  {
   "attachments": {},
   "cell_type": "markdown",
   "metadata": {},
   "source": [
    "### Modelo 1"
   ]
  },
  {
   "cell_type": "code",
   "execution_count": null,
   "metadata": {},
   "outputs": [],
   "source": [
    "\n",
    "# Define the model architecture 1\n",
    "model = Sequential([\n",
    "    data_augmentation,\n",
    "    Rescaling(1.0 / 255.0),\n",
    "    Conv2D(64, (3, 3), activation='relu', input_shape=IMG_SIZE, padding='same'),\n",
    "    MaxPooling2D((2, 2)),\n",
    "    BatchNormalization(),\n",
    "    Dropout(0.2),\n",
    "    \n",
    "    Conv2D(128, (3, 3), activation='relu', padding='same'),\n",
    "    MaxPooling2D((2, 2)),\n",
    "    BatchNormalization(),\n",
    "    \n",
    "    Conv2D(256, (3, 3), activation='relu', padding='same'),\n",
    "    MaxPooling2D((2, 2)),\n",
    "    BatchNormalization(),\n",
    "    Dropout(0.2),\n",
    "    \n",
    "    Conv2D(512, (3, 3), activation='relu', padding='same'),\n",
    "    MaxPooling2D((2, 2)),\n",
    "    BatchNormalization(),\n",
    "    \n",
    "    Conv2D(512, (3, 3), activation='relu', padding='same'),\n",
    "    MaxPooling2D((2, 2)),\n",
    "    BatchNormalization(),\n",
    "    Dropout(0.2),\n",
    "\n",
    "    Flatten(),\n",
    "\n",
    "    Dense(256, activation='relu'),\n",
    "    BatchNormalization(),\n",
    "    Dense(256, activation='relu', kernel_regularizer=regularizers.l2(l= 0.01)),\n",
    "    BatchNormalization(),\n",
    "    Dropout(0.25),\n",
    "    Dense(100, activation='softmax'),\n",
    "])\n",
    "\n",
    "\n",
    "# Compile the model\n",
    "model.compile(optimizer=\"adam\",\n",
    "              loss='sparse_categorical_crossentropy',\n",
    "              metrics=['accuracy'])\n",
    "\n",
    "\n",
    "# Train the model\n",
    "model.fit(x=Xtrain, epochs=50, validation_data=Xvalid,\n",
    "          shuffle=False, verbose=1)\n",
    "\n",
    "# Evaluate the model\n",
    "test_loss, test_acc = model.evaluate(Xtest)\n",
    "print('Test loss:', test_loss)\n",
    "print('Test accuracy:', test_acc)\n",
    "model.save('sports_6.h5')\n"
   ]
  },
  {
   "cell_type": "code",
   "execution_count": 46,
   "metadata": {},
   "outputs": [
    {
     "name": "stdout",
     "output_type": "stream",
     "text": [
      "Model: \"sequential_44\"\n",
      "_________________________________________________________________\n",
      " Layer (type)                Output Shape              Param #   \n",
      "=================================================================\n",
      " sequential_23 (Sequential)  (None, 224, 224, 3)       0         \n",
      "                                                                 \n",
      " rescaling_40 (Rescaling)    (None, 224, 224, 3)       0         \n",
      "                                                                 \n",
      " conv2d_146 (Conv2D)         (None, 224, 224, 32)      896       \n",
      "                                                                 \n",
      " max_pooling2d_146 (MaxPooli  (None, 112, 112, 32)     0         \n",
      " ng2D)                                                           \n",
      "                                                                 \n",
      " batch_normalization_141 (Ba  (None, 112, 112, 32)     128       \n",
      " tchNormalization)                                               \n",
      "                                                                 \n",
      " dropout_134 (Dropout)       (None, 112, 112, 32)      0         \n",
      "                                                                 \n",
      " conv2d_147 (Conv2D)         (None, 112, 112, 64)      18496     \n",
      "                                                                 \n",
      " max_pooling2d_147 (MaxPooli  (None, 56, 56, 64)       0         \n",
      " ng2D)                                                           \n",
      "                                                                 \n",
      " batch_normalization_142 (Ba  (None, 56, 56, 64)       256       \n",
      " tchNormalization)                                               \n",
      "                                                                 \n",
      " conv2d_148 (Conv2D)         (None, 56, 56, 128)       73856     \n",
      "                                                                 \n",
      " max_pooling2d_148 (MaxPooli  (None, 28, 28, 128)      0         \n",
      " ng2D)                                                           \n",
      "                                                                 \n",
      " batch_normalization_143 (Ba  (None, 28, 28, 128)      512       \n",
      " tchNormalization)                                               \n",
      "                                                                 \n",
      " conv2d_149 (Conv2D)         (None, 28, 28, 256)       295168    \n",
      "                                                                 \n",
      " max_pooling2d_149 (MaxPooli  (None, 14, 14, 256)      0         \n",
      " ng2D)                                                           \n",
      "                                                                 \n",
      " batch_normalization_144 (Ba  (None, 14, 14, 256)      1024      \n",
      " tchNormalization)                                               \n",
      "                                                                 \n",
      " conv2d_150 (Conv2D)         (None, 14, 14, 512)       1180160   \n",
      "                                                                 \n",
      " max_pooling2d_150 (MaxPooli  (None, 7, 7, 512)        0         \n",
      " ng2D)                                                           \n",
      "                                                                 \n",
      " batch_normalization_145 (Ba  (None, 7, 7, 512)        2048      \n",
      " tchNormalization)                                               \n",
      "                                                                 \n",
      " dropout_135 (Dropout)       (None, 7, 7, 512)         0         \n",
      "                                                                 \n",
      " conv2d_151 (Conv2D)         (None, 7, 7, 512)         2359808   \n",
      "                                                                 \n",
      " max_pooling2d_151 (MaxPooli  (None, 3, 3, 512)        0         \n",
      " ng2D)                                                           \n",
      "                                                                 \n",
      " batch_normalization_146 (Ba  (None, 3, 3, 512)        2048      \n",
      " tchNormalization)                                               \n",
      "                                                                 \n",
      " dropout_136 (Dropout)       (None, 3, 3, 512)         0         \n",
      "                                                                 \n",
      " flatten_40 (Flatten)        (None, 4608)              0         \n",
      "                                                                 \n",
      " dense_142 (Dense)           (None, 256)               1179904   \n",
      "                                                                 \n",
      " batch_normalization_147 (Ba  (None, 256)              1024      \n",
      " tchNormalization)                                               \n",
      "                                                                 \n",
      " dense_143 (Dense)           (None, 256)               65792     \n",
      "                                                                 \n",
      " dropout_137 (Dropout)       (None, 256)               0         \n",
      "                                                                 \n",
      " dense_144 (Dense)           (None, 100)               25700     \n",
      "                                                                 \n",
      "=================================================================\n",
      "Total params: 5,206,820\n",
      "Trainable params: 5,203,300\n",
      "Non-trainable params: 3,520\n",
      "_________________________________________________________________\n",
      "13/13 [==============================] - 1s 22ms/step - loss: 1.8957 - accuracy: 0.6340\n",
      "Test loss: 1.8957113027572632\n",
      "Test accuracy: 0.6340000033378601\n",
      "[[0 0 0 ... 0 0 0]\n",
      " [0 0 0 ... 0 0 0]\n",
      " [0 0 0 ... 0 0 0]\n",
      " ...\n",
      " [0 0 0 ... 0 0 0]\n",
      " [0 0 0 ... 0 0 0]\n",
      " [0 0 0 ... 0 0 0]]\n",
      "7\n"
     ]
    },
    {
     "data": {
      "text/plain": [
       "<matplotlib.image.AxesImage at 0x1d8ebefc730>"
      ]
     },
     "execution_count": 46,
     "metadata": {},
     "output_type": "execute_result"
    },
    {
     "data": {
      "image/png": "[encoded data removed]",
      "text/plain": [
       "<Figure size 1440x1440 with 1 Axes>"
      ]
     },
     "metadata": {
      "needs_background": "light"
     },
     "output_type": "display_data"
    }
   ],
   "source": [
    "model5 = keras.models.load_model('sports_5.h5')\n",
    "model5.summary()\n",
    "\n",
    "test_loss, test_acc = model5.evaluate(Xtest)\n",
    "print('Test loss:', test_loss)\n",
    "print('Test accuracy:', test_acc)\n"
   ]
  }
 ],
 "metadata": {
  "kernelspec": {
   "display_name": "tf",
   "language": "python",
   "name": "tf"
  },
  "language_info": {
   "codemirror_mode": {
    "name": "ipython",
    "version": 3
   },
   "file_extension": ".py",
   "mimetype": "text/x-python",
   "name": "python",
   "nbconvert_exporter": "python",
   "pygments_lexer": "ipython3",
   "version": "3.9.9"
  },
  "orig_nbformat": 4
 },
 "nbformat": 4,
 "nbformat_minor": 2
}
